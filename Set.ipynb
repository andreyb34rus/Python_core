{
 "cells": [
  {
   "cell_type": "markdown",
   "metadata": {},
   "source": [
    "   Множество, неупорядоченная коллекция уникальных и неизменяемых объектов. По определению, каждый элемент может присутствовать в множестве в единственном экземпляре независимо от того, сколько раз он будет добавлен.Однако так как множества являются неупорядоченными коллекциями, они не поддерживают операции над последовательностями, такие как индексирование и извлечение среза.\n",
    "    Множества поддерживают итерации, могут изменяться в размерах при необходимости и могут содержать объекты разных типов. Как мы увидим ниже, множество напоминает словарь, ключи в котором не имеют значений."
   ]
  },
  {
   "cell_type": "markdown",
   "metadata": {},
   "source": [
    "В настоящее время существует несколько способов создания объекта множества"
   ]
  },
  {
   "cell_type": "code",
   "execution_count": null,
   "metadata": {},
   "outputs": [],
   "source": []
  },
  {
   "cell_type": "code",
   "execution_count": 2,
   "metadata": {},
   "outputs": [
    {
     "name": "stdout",
     "output_type": "stream",
     "text": [
      "{'b', 'a', 'd', 'c'}\n"
     ]
    }
   ],
   "source": [
    "x = set('abcd')\n",
    "print(x)"
   ]
  },
  {
   "cell_type": "code",
   "execution_count": 4,
   "metadata": {},
   "outputs": [
    {
     "name": "stdout",
     "output_type": "stream",
     "text": [
      "{'n', 'y', 't', 'p', 'h', 'o'}\n"
     ]
    }
   ],
   "source": [
    "y = {'p','y','t','h','o','n'} # Литерал множества в версии 3.0\n",
    "print (y)"
   ]
  },
  {
   "cell_type": "markdown",
   "metadata": {},
   "source": [
    "В версии Python 3.0 сохранилась возможность использовать встроенную функцию set для создания объектов множеств, но при\n",
    "этом появилась новая форма литералов множеств, в которых используются фигурные скобки, прежде зарезервированные для литералов словарей."
   ]
  },
  {
   "cell_type": "markdown",
   "metadata": {},
   "source": [
    "Множества, созданные таким способом, поддерживают обычные математические операции над множествами посредством операторов."
   ]
  },
  {
   "cell_type": "code",
   "execution_count": 5,
   "metadata": {},
   "outputs": [
    {
     "name": "stdout",
     "output_type": "stream",
     "text": [
      "{'a', 'n', 'y', 't', 'p', 'h', 'b', 'c', 'o', 'd'}\n"
     ]
    }
   ],
   "source": [
    "print (x|y)"
   ]
  },
  {
   "cell_type": "markdown",
   "metadata": {},
   "source": [
    "Помимо поддержки операторов выражений, объекты множеств обладают методами, которые реализуют те же и ряд дополнительных операций и обеспечивают изменение самих множеств."
   ]
  },
  {
   "cell_type": "code",
   "execution_count": 10,
   "metadata": {},
   "outputs": [
    {
     "name": "stdout",
     "output_type": "stream",
     "text": [
      "{'a', 'n', 'y', 't', 'p', 'h', 'b', 'c', 'o', 'd'}\n"
     ]
    }
   ],
   "source": [
    "x.update(y)\n",
    "print(x)"
   ]
  },
  {
   "cell_type": "markdown",
   "metadata": {},
   "source": [
    "Метод add вставляет новый элемент в множество, метод update – выполняет объединение, а метод remove удаляет элемент по его значению."
   ]
  },
  {
   "cell_type": "code",
   "execution_count": 16,
   "metadata": {},
   "outputs": [
    {
     "name": "stdout",
     "output_type": "stream",
     "text": [
      "{3.14, 9, 'Lorem ipsum'}\n"
     ]
    }
   ],
   "source": [
    "z  = set() #Создаём пустое множество\n",
    "z.add('Lorem ipsum')\n",
    "z.add(3.14)\n",
    "z.add(9)\n",
    "print (z)"
   ]
  },
  {
   "cell_type": "code",
   "execution_count": 15,
   "metadata": {},
   "outputs": [
    {
     "name": "stdout",
     "output_type": "stream",
     "text": [
      "None\n"
     ]
    }
   ],
   "source": [
    "print(z.remove('Lorem ipsum'))"
   ]
  }
 ],
 "metadata": {
  "kernelspec": {
   "display_name": "Python 3",
   "language": "python",
   "name": "python3"
  },
  "language_info": {
   "codemirror_mode": {
    "name": "ipython",
    "version": 3
   },
   "file_extension": ".py",
   "mimetype": "text/x-python",
   "name": "python",
   "nbconvert_exporter": "python",
   "pygments_lexer": "ipython3",
   "version": "3.7.2"
  }
 },
 "nbformat": 4,
 "nbformat_minor": 2
}
